{
 "cells": [
  {
   "cell_type": "markdown",
   "metadata": {},
   "source": [
    "# 가상환경 만들기 \n",
    "* (Streamlit2.pdf 파일 참고)\n",
    "1. 상단의 터미널 > 새 터미널  <br>\n",
    "2. 아래 터미널의 경로에서 현재 작업경로가 되도록 변경 <br>\n",
    "    ( [예시] C:\\Users\\lenovo\\Documents\\aibootcamp\\streamlit> )\n",
    "3. 터미널에서 conda activate 입력하고 경로 앞에서 (base) 변하는것 확인 <br>\n",
    "    ( [예시] (base) C:\\Users\\lenovo\\Documents\\aibootcamp\\streamlit> ) <br>\n",
    "4. 위의 (base)가 나타나지 않으면 터미널 오른쪽 상단에 cmd 인지 확인. powershell이면 나타나지 않는다. <br>\n",
    "5. 가상환경 목록보기. <br>\n",
    "    터미널에서 conda env list\n",
    "6. 가상환경 STR(가상환경이름) 만들기 <br>\n",
    "    (base) C:\\Users\\lenovo\\Documents\\aibootcamp\\streamlit>conda create -n STR python=3.9.13     <br>\n",
    "    (base) C:\\Users\\lenovo\\Documents\\aibootcamp\\streamlit>conda activate STR    <br>\n",
    "    (STR) C:\\Users\\lenovo\\Documents\\aibootcamp\\streamlit>   <br>\n",
    "7. 가상환경 활성화/비활성화 <br>\n",
    "    conda activate 가상환경이름<br>\n",
    "    conda deactivate 가상환경이름<br>\n",
    "8.  필요한 라이브러리 일괄설치\n",
    "    (STR) C:\\Users\\lenovo\\Documents\\aibootcamp\\streamlit>pip install -r ready.txt(파일명)\n",
    "9. 가상환경 삭제 <br>\n",
    "    conda env remove -n STR <br>\n",
    "    (base) C:\\Users\\Streamlit> conda env remove –n STR<br>\n",
    "10. 실행 <br>\n",
    "    터미널(cmd)에서 파일 실행방법: streamlit run 파일명<br>\n",
    "    (STR)C:\\Users\\lenovo\\Documents\\aibootcamp\\streamlit>streamlit run app.py<br>\n",
    "## 가상환경에 설치된 모든 라이브러리를 확인\n",
    "    pip freeze <br>\n",
    "    (STR) C:\\Users\\lenovo\\Documents\\aibootcamp\\streamlit>pip freeze <br>\n",
    "## 가상환경에 설치된 모든 라이브러리에 대한 파일 생성\n",
    "    pip freeze > requirements.txt(파일명) <br>\n",
    "    (STR) C:\\Users\\lenovo\\Documents\\aibootcamp\\streamlit>pip freeze > requirements.txt  <br>\n",
    "\n",
    "\n",
    "\n"
   ]
  },
  {
   "cell_type": "markdown",
   "metadata": {},
   "source": [
    "## streamlit 사이트\n",
    "https://share.streamlit.io/"
   ]
  },
  {
   "cell_type": "markdown",
   "metadata": {},
   "source": []
  }
 ],
 "metadata": {
  "language_info": {
   "name": "python"
  },
  "orig_nbformat": 4
 },
 "nbformat": 4,
 "nbformat_minor": 2
}
